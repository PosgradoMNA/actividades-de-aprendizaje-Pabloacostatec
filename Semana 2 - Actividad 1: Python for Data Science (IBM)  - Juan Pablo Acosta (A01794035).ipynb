{
  "nbformat": 4,
  "nbformat_minor": 0,
  "metadata": {
    "colab": {
      "provenance": [],
      "authorship_tag": "ABX9TyP70l1FZGmGNzADmRB66Qii",
      "include_colab_link": true
    },
    "kernelspec": {
      "name": "python3",
      "display_name": "Python 3"
    },
    "language_info": {
      "name": "python"
    }
  },
  "cells": [
    {
      "cell_type": "markdown",
      "metadata": {
        "id": "view-in-github",
        "colab_type": "text"
      },
      "source": [
        "<a href=\"https://colab.research.google.com/github/PosgradoMNA/actividades-de-aprendizaje-Pabloacostatec-A01794035-/blob/main/Semana%202%20-%20Actividad%201%3A%20Python%20for%20Data%20Science%20(IBM)%20%20-%20Juan%20Pablo%20Acosta%20(A01794035).ipynb\" target=\"_parent\"><img src=\"https://colab.research.google.com/assets/colab-badge.svg\" alt=\"Open In Colab\"/></a>"
      ]
    },
    {
      "cell_type": "markdown",
      "source": [
        "####Semana 2 - Actividad 1: Python for Data Science (IBM)  - Juan Pablo Acosta (A01794035)"
      ],
      "metadata": {
        "id": "0nwRAUtfByHo"
      }
    },
    {
      "cell_type": "markdown",
      "source": [
        "#Obtener la información abriendo documentos\n",
        "\n",
        "\"open\"- sirve para abrir el archivo\n",
        "\n",
        "\"readline\" para salvar las líneas de un documento en una variable, cada vez que se llama el método se salva la siguiente línea"
      ],
      "metadata": {
        "id": "qkypDSzSGH8A"
      }
    },
    {
      "cell_type": "markdown",
      "source": [
        "#Reading files Lab"
      ],
      "metadata": {
        "id": "TjyuuZi0G5B-"
      }
    },
    {
      "cell_type": "code",
      "source": [
        "#download pd libraries\n",
        "\n",
        "import pandas as pd\n",
        "\n",
        "#Use Open and with open as best practice, using california example database\n",
        "\n",
        "from google.colab import drive\n",
        "drive.mount(\"/content/drive/\", force_remount = True)\n",
        "Base_de_datos = \"/content/sample_data/california_housing_test.csv\"\n",
        "\n",
        "with open(Base_de_datos) as file1:\n",
        "    FileContent = file1.read()\n",
        "    #print(FileContent)\n",
        "\n",
        "#Test readline function\n",
        "#Read line 1\n",
        "\n",
        "with open(Base_de_datos, \"r\") as file1:\n",
        "    FirstLine= file1.readline()\n",
        "   # print(FirstLine)\n",
        "\n",
        "#Test readline with a loop\n",
        "with open(Base_de_datos, \"r\") as file1:\n",
        "  for i in range(0,5):\n",
        "    FirstLine= file1.readline()\n",
        "    print(FirstLine)\n"
      ],
      "metadata": {
        "id": "5JU-P4tQHBID",
        "outputId": "3e6b88fc-a6b6-4508-9439-c461893456b9",
        "colab": {
          "base_uri": "https://localhost:8080/"
        }
      },
      "execution_count": 10,
      "outputs": [
        {
          "output_type": "stream",
          "name": "stdout",
          "text": [
            "Mounted at /content/drive/\n",
            "\"longitude\",\"latitude\",\"housing_median_age\",\"total_rooms\",\"total_bedrooms\",\"population\",\"households\",\"median_income\",\"median_house_value\"\n",
            "\n",
            "-122.050000,37.370000,27.000000,3885.000000,661.000000,1537.000000,606.000000,6.608500,344700.000000\n",
            "\n",
            "-118.300000,34.260000,43.000000,1510.000000,310.000000,809.000000,277.000000,3.599000,176500.000000\n",
            "\n",
            "-117.810000,33.780000,27.000000,3589.000000,507.000000,1484.000000,495.000000,5.793400,270500.000000\n",
            "\n",
            "-118.360000,33.820000,28.000000,67.000000,15.000000,49.000000,11.000000,6.135900,330000.000000\n",
            "\n"
          ]
        }
      ]
    },
    {
      "cell_type": "markdown",
      "source": [
        "#Writing files\n",
        "\n",
        "file.write - to write into the file\n",
        "use \\n to be able to write multiple files\n",
        "\n",
        "Appending Files\n",
        "\n",
        "To copy a file you can use a loop to go through all the lines and paste in new file"
      ],
      "metadata": {
        "id": "aiSP7pMIK625"
      }
    },
    {
      "cell_type": "markdown",
      "source": [
        "#Writing Files Lab\n",
        "\n",
        "Your local university's Raptors fan club maintains a register of its active members on a .txt document. Every month they update the file by removing the members who are not active. You have been tasked with automating this with your Python skills.\n",
        "Given the file currentMem, Remove each member with a 'no' in their Active column. Keep track of each of the removed members and append them to the exMem file. Make sure that the format of the original files in preserved. (Hint: Do this by reading/writing whole lines and ensuring the header remains )\n",
        "Run the code block below prior to starting the exercise. The skeleton code has been provided for you. Edit only the cleanFiles function.\n"
      ],
      "metadata": {
        "id": "zM9MzdwHL_kN"
      }
    },
    {
      "cell_type": "code",
      "source": [
        "from random import randint as rnd\n",
        "\n",
        "memReg = 'members.txt'\n",
        "exReg = 'inactive.txt'\n",
        "fee =('yes','no')\n",
        "\n",
        "def genFiles(current,old):\n",
        "    with open(current,'w+') as writefile: \n",
        "        writefile.write('Membership No  Date Joined  Active  \\n')\n",
        "        data = \"{:^13}  {:<11}  {:<6}\\n\"\n",
        "\n",
        "        for rowno in range(20):\n",
        "            date = str(rnd(2015,2020))+ '-' + str(rnd(1,12))+'-'+str(rnd(1,25))\n",
        "            writefile.write(data.format(rnd(10000,99999),date,fee[rnd(0,1)]))\n",
        "\n",
        "\n",
        "    with open(old,'w+') as writefile: \n",
        "        writefile.write('Membership No  Date Joined  Active  \\n')\n",
        "        data = \"{:^13}  {:<11}  {:<6}\\n\"\n",
        "        for rowno in range(3):\n",
        "            date = str(rnd(2015,2020))+ '-' + str(rnd(1,12))+'-'+str(rnd(1,25))\n",
        "            writefile.write(data.format(rnd(10000,99999),date,fee[1]))\n",
        "\n",
        "genFiles(memReg,exReg)\n",
        "\n",
        "MembersFile=memReg\n",
        "\n",
        "with open(MembersFile) as file1:\n",
        "    FileContent = file1.read()\n",
        "    print('Original Memberships\\n' + FileContent)\n",
        "\n",
        "ExFile = exReg\n",
        "\n",
        "with open(ExFile) as file2:\n",
        "    FileContent = file2.read()\n",
        "    print('Old Ex Memberships\\n' + FileContent)\n",
        "\n",
        "New_members = 'New_members.txt'\n",
        "\n",
        "f = open(New_members, 'r+')\n",
        "f.truncate(0) # need '0' when using r+\n",
        "\n",
        "with open(MembersFile, \"r+\") as file1:\n",
        "  for i in range(21):\n",
        "    CurrentLine= file1.readline()\n",
        "    Stringline = str(CurrentLine)\n",
        "    if \"no\" in  Stringline:\n",
        "      with open(ExFile, \"a+\") as file2:\n",
        "        file2.write(CurrentLine)\n",
        "    else:\n",
        "      with open(New_members, \"a+\") as file3:\n",
        "        file3.write(CurrentLine)\n",
        "        file3.close()\n",
        "\n",
        "#with open(MembersFile) as file1:\n",
        " #   FileContent = file1.read()\n",
        "  #  print(FileContent)\n",
        " \n",
        "with open(New_members) as file1:\n",
        "    FileContent = file1.read()\n",
        "    print('Current active Memberships\\n' + FileContent)\n",
        "\n",
        "       \n",
        "with open(ExFile) as file1:\n",
        "    FileContent = file1.read()\n",
        "    print('Current inactive Memberships\\n' + FileContent)"
      ],
      "metadata": {
        "id": "YXfKUj2NL9WQ",
        "outputId": "5fb45b65-3c35-4df0-bfd9-8f2b31403562",
        "colab": {
          "base_uri": "https://localhost:8080/"
        }
      },
      "execution_count": 9,
      "outputs": [
        {
          "output_type": "stream",
          "name": "stdout",
          "text": [
            "Original Memberships\n",
            "Membership No  Date Joined  Active  \n",
            "    29949      2018-3-2     yes   \n",
            "    55136      2018-5-2     no    \n",
            "    22183      2019-5-21    yes   \n",
            "    69857      2019-3-9     no    \n",
            "    37345      2016-2-1     yes   \n",
            "    79515      2020-7-2     no    \n",
            "    25487      2016-2-21    yes   \n",
            "    99086      2016-2-24    yes   \n",
            "    82549      2018-3-14    yes   \n",
            "    36924      2017-12-25   no    \n",
            "    29536      2017-6-25    no    \n",
            "    47363      2015-1-8     yes   \n",
            "    62357      2016-2-19    yes   \n",
            "    70928      2019-4-22    no    \n",
            "    57667      2017-2-2     yes   \n",
            "    90140      2017-8-7     yes   \n",
            "    39377      2015-2-6     no    \n",
            "    80859      2015-4-2     no    \n",
            "    32597      2017-3-13    no    \n",
            "    52172      2016-6-23    no    \n",
            "\n",
            "Old Ex Memberships\n",
            "Membership No  Date Joined  Active  \n",
            "    57115      2020-2-25    no    \n",
            "    58258      2018-9-12    no    \n",
            "    98979      2015-1-1     no    \n",
            "\n",
            "Current active Memberships\n",
            "Membership No  Date Joined  Active  \n",
            "    29949      2018-3-2     yes   \n",
            "    22183      2019-5-21    yes   \n",
            "    37345      2016-2-1     yes   \n",
            "    25487      2016-2-21    yes   \n",
            "    99086      2016-2-24    yes   \n",
            "    82549      2018-3-14    yes   \n",
            "    47363      2015-1-8     yes   \n",
            "    62357      2016-2-19    yes   \n",
            "    57667      2017-2-2     yes   \n",
            "    90140      2017-8-7     yes   \n",
            "\n",
            "Current inactive Memberships\n",
            "Membership No  Date Joined  Active  \n",
            "    57115      2020-2-25    no    \n",
            "    58258      2018-9-12    no    \n",
            "    98979      2015-1-1     no    \n",
            "    55136      2018-5-2     no    \n",
            "    69857      2019-3-9     no    \n",
            "    79515      2020-7-2     no    \n",
            "    36924      2017-12-25   no    \n",
            "    29536      2017-6-25    no    \n",
            "    70928      2019-4-22    no    \n",
            "    39377      2015-2-6     no    \n",
            "    80859      2015-4-2     no    \n",
            "    32597      2017-3-13    no    \n",
            "    52172      2016-6-23    no    \n",
            "\n"
          ]
        }
      ]
    },
    {
      "cell_type": "code",
      "source": [
        "def cleanFiles(currentMem,exMem):\n",
        "    with open(currentMem,'r+') as writeFile: \n",
        "        with open(exMem,'a+') as appendFile:\n",
        "            #get the data\n",
        "            writeFile.seek(0)\n",
        "            members = writeFile.readlines()\n",
        "            #remove header\n",
        "            header = members[0]\n",
        "            members.pop(0)\n",
        "                \n",
        "            inactive = [member for member in members if ('no' in member)]\n",
        "            '''\n",
        "            The above is the same as \n",
        "\n",
        "            for member in members:\n",
        "            if 'no' in member:\n",
        "                inactive.append(member)\n",
        "            '''\n",
        "            #go to the beginning of the write file\n",
        "            writeFile.seek(0) \n",
        "            writeFile.write(header)\n",
        "            for member in members:\n",
        "                if (member in inactive):\n",
        "                    appendFile.write(member)\n",
        "                else:\n",
        "                    writeFile.write(member)      \n",
        "            writeFile.truncate()\n",
        "                \n",
        "memReg = 'members.txt'\n",
        "exReg = 'inactive.txt'\n",
        "cleanFiles(memReg,exReg)\n",
        "\n",
        "# code to help you see the files\n",
        "\n",
        "headers = \"Membership No  Date Joined  Active  \\n\"\n",
        "\n",
        "with open(memReg,'r') as readFile:\n",
        "    print(\"Active Members: \\n\\n\")\n",
        "    print(readFile.read())\n",
        "    \n",
        "with open(exReg,'r') as readFile:\n",
        "    print(\"Inactive Members: \\n\\n\")\n",
        "    print(readFile.read())\n",
        "    "
      ],
      "metadata": {
        "id": "bXu7GuvjWQ01",
        "outputId": "6e307c01-3543-4795-875e-eea728d3cea2",
        "colab": {
          "base_uri": "https://localhost:8080/"
        }
      },
      "execution_count": 108,
      "outputs": [
        {
          "output_type": "stream",
          "name": "stdout",
          "text": [
            "Active Members: \n",
            "\n",
            "\n",
            "Membership No  Date Joined  Active  \n",
            "    16641      2016-8-24    yes   \n",
            "    76430      2017-1-3     yes   \n",
            "    44715      2019-9-22    yes   \n",
            "    28732      2016-9-8     yes   \n",
            "    52502      2017-5-12    yes   \n",
            "    16522      2018-3-20    yes   \n",
            "    55398      2018-11-1    yes   \n",
            "    56277      2017-10-10   yes   \n",
            "    96781      2020-6-10    yes   \n",
            "\n",
            "Inactive Members: \n",
            "\n",
            "\n",
            "Membership No  Date Joined  Active  \n",
            "    87479      2019-2-22    no    \n",
            "    73261      2020-6-2     no    \n",
            "    13813      2015-11-2    no    \n",
            "    87290      2017-8-20    no    \n",
            "    60464      2018-4-25    no    \n",
            "    65708      2020-2-22    no    \n",
            "    26247      2020-10-4    no    \n",
            "    74827      2016-10-25   no    \n",
            "    69910      2019-10-5    no    \n",
            "    28675      2016-9-3     no    \n",
            "    79435      2019-4-23    no    \n",
            "    83084      2015-10-19   no    \n",
            "    13037      2019-3-13    no    \n",
            "    20748      2018-2-19    no    \n",
            "    87290      2017-8-20    no    \n",
            "    60464      2018-4-25    no    \n",
            "    65708      2020-2-22    no    \n",
            "    26247      2020-10-4    no    \n",
            "    74827      2016-10-25   no    \n",
            "    69910      2019-10-5    no    \n",
            "    28675      2016-9-3     no    \n",
            "    79435      2019-4-23    no    \n",
            "    83084      2015-10-19   no    \n",
            "    13037      2019-3-13    no    \n",
            "    20748      2018-2-19    no    \n",
            "\n"
          ]
        }
      ]
    }
  ]
}