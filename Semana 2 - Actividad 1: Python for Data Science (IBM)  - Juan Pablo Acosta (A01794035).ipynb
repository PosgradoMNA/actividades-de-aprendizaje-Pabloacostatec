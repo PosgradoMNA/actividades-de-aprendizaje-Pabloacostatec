{
  "nbformat": 4,
  "nbformat_minor": 0,
  "metadata": {
    "colab": {
      "provenance": [],
      "authorship_tag": "ABX9TyO/NjUk86oa0heIGzwVCxDH",
      "include_colab_link": true
    },
    "kernelspec": {
      "name": "python3",
      "display_name": "Python 3"
    },
    "language_info": {
      "name": "python"
    }
  },
  "cells": [
    {
      "cell_type": "markdown",
      "metadata": {
        "id": "view-in-github",
        "colab_type": "text"
      },
      "source": [
        "<a href=\"https://colab.research.google.com/github/PosgradoMNA/actividades-de-aprendizaje-Pabloacostatec-A01794035-/blob/main/Semana%202%20-%20Actividad%201%3A%20Python%20for%20Data%20Science%20(IBM)%20%20-%20Juan%20Pablo%20Acosta%20(A01794035).ipynb\" target=\"_parent\"><img src=\"https://colab.research.google.com/assets/colab-badge.svg\" alt=\"Open In Colab\"/></a>"
      ]
    },
    {
      "cell_type": "markdown",
      "source": [
        "####Semana 2 - Actividad 1: Python for Data Science (IBM)  - Juan Pablo Acosta (A01794035)"
      ],
      "metadata": {
        "id": "0nwRAUtfByHo"
      }
    },
    {
      "cell_type": "markdown",
      "source": [
        "#Obtener la información abriendo documentos\n",
        "\n",
        "\"open\"- sirve para abrir el archivo\n",
        "\n",
        "\"readline\" para salvar las líneas de un documento en una variable, cada vez que se llama el método se salva la siguiente línea"
      ],
      "metadata": {
        "id": "qkypDSzSGH8A"
      }
    },
    {
      "cell_type": "markdown",
      "source": [
        "#Reading files Lab"
      ],
      "metadata": {
        "id": "TjyuuZi0G5B-"
      }
    },
    {
      "cell_type": "code",
      "source": [
        "#download pd libraries\n",
        "\n",
        "import pandas as pd\n",
        "\n",
        "#Use Open and with open as best practice, using california example database\n",
        "\n",
        "from google.colab import drive\n",
        "drive.mount(\"/content/drive/\", force_remount = True)\n",
        "Base_de_datos = \"/content/sample_data/california_housing_test.csv\"\n",
        "\n",
        "with open(Base_de_datos) as file1:\n",
        "    FileContent = file1.read()\n",
        "    #print(FileContent)\n",
        "\n",
        "#Test readline function\n",
        "#Read line 1\n",
        "\n",
        "with open(Base_de_datos, \"r\") as file1:\n",
        "    FirstLine= file1.readline()\n",
        "   # print(FirstLine)\n",
        "\n",
        "#Test readline with a loop\n",
        "with open(Base_de_datos, \"r\") as file1:\n",
        "  for i in range(0,5):\n",
        "    FirstLine= file1.readline()\n",
        "    print(FirstLine)\n"
      ],
      "metadata": {
        "colab": {
          "base_uri": "https://localhost:8080/"
        },
        "id": "5JU-P4tQHBID",
        "outputId": "3e6b88fc-a6b6-4508-9439-c461893456b9"
      },
      "execution_count": null,
      "outputs": [
        {
          "output_type": "stream",
          "name": "stdout",
          "text": [
            "Mounted at /content/drive/\n",
            "\"longitude\",\"latitude\",\"housing_median_age\",\"total_rooms\",\"total_bedrooms\",\"population\",\"households\",\"median_income\",\"median_house_value\"\n",
            "\n",
            "-122.050000,37.370000,27.000000,3885.000000,661.000000,1537.000000,606.000000,6.608500,344700.000000\n",
            "\n",
            "-118.300000,34.260000,43.000000,1510.000000,310.000000,809.000000,277.000000,3.599000,176500.000000\n",
            "\n",
            "-117.810000,33.780000,27.000000,3589.000000,507.000000,1484.000000,495.000000,5.793400,270500.000000\n",
            "\n",
            "-118.360000,33.820000,28.000000,67.000000,15.000000,49.000000,11.000000,6.135900,330000.000000\n",
            "\n"
          ]
        }
      ]
    },
    {
      "cell_type": "markdown",
      "source": [
        "#Writing files\n",
        "\n",
        "file.write - to write into the file\n",
        "use \\n to be able to write multiple files\n",
        "\n",
        "Appending Files\n",
        "\n",
        "To copy a file you can use a loop to go through all the lines and paste in new file"
      ],
      "metadata": {
        "id": "aiSP7pMIK625"
      }
    },
    {
      "cell_type": "markdown",
      "source": [
        "#Writing Files Lab\n",
        "\n",
        "Your local university's Raptors fan club maintains a register of its active members on a .txt document. Every month they update the file by removing the members who are not active. You have been tasked with automating this with your Python skills.\n",
        "Given the file currentMem, Remove each member with a 'no' in their Active column. Keep track of each of the removed members and append them to the exMem file. Make sure that the format of the original files in preserved. (Hint: Do this by reading/writing whole lines and ensuring the header remains )\n",
        "Run the code block below prior to starting the exercise. The skeleton code has been provided for you. Edit only the cleanFiles function.\n"
      ],
      "metadata": {
        "id": "zM9MzdwHL_kN"
      }
    },
    {
      "cell_type": "code",
      "source": [
        "#Use the lab generator\n",
        "\n",
        "from random import randint as rnd\n",
        "\n",
        "memReg = 'members.txt'\n",
        "exReg = 'inactive.txt'\n",
        "fee =('yes','no')\n",
        "\n",
        "def genFiles(current,old):\n",
        "    with open(current,'w+') as writefile: \n",
        "        writefile.write('Membership No  Date Joined  Active  \\n')\n",
        "        data = \"{:^13}  {:<11}  {:<6}\\n\"\n",
        "\n",
        "        for rowno in range(20):\n",
        "            date = str(rnd(2015,2020))+ '-' + str(rnd(1,12))+'-'+str(rnd(1,25))\n",
        "            writefile.write(data.format(rnd(10000,99999),date,fee[rnd(0,1)]))\n",
        "\n",
        "\n",
        "    with open(old,'w+') as writefile: \n",
        "        writefile.write('Membership No  Date Joined  Active  \\n')\n",
        "        data = \"{:^13}  {:<11}  {:<6}\\n\"\n",
        "        for rowno in range(3):\n",
        "            date = str(rnd(2015,2020))+ '-' + str(rnd(1,12))+'-'+str(rnd(1,25))\n",
        "            writefile.write(data.format(rnd(10000,99999),date,fee[1]))\n",
        "\n",
        "#Create my own function\n",
        "\n",
        "def Cleanfiles(Current,old):\n",
        "\n",
        "  MembersFile=Current\n",
        "\n",
        "  with open(MembersFile) as file1:\n",
        "      FileContent = file1.read()\n",
        "      print('Original Memberships\\n' + FileContent)\n",
        "\n",
        "  ExFile = old\n",
        "\n",
        "  with open(ExFile) as file2:\n",
        "      FileContent = file2.read()\n",
        "      print('Old Ex Memberships\\n' + FileContent)\n",
        "\n",
        "  New_members = 'New_members.txt'\n",
        "\n",
        "  f = open(New_members, 'r+')\n",
        "  f.truncate(0) # need '0' when using r+\n",
        "\n",
        "  with open(MembersFile, \"r+\") as file1:\n",
        "    for i in range(21):\n",
        "      CurrentLine= file1.readline()\n",
        "      Stringline = str(CurrentLine)\n",
        "      if \"no\" in  Stringline:\n",
        "        with open(ExFile, \"a+\") as file2:\n",
        "          file2.write(CurrentLine)\n",
        "      else:\n",
        "        with open(New_members, \"a+\") as file3:\n",
        "          file3.write(CurrentLine)\n",
        "          file3.close()\n",
        "\n",
        "  with open(New_members) as file1:\n",
        "      FileContent = file1.read()\n",
        "      print('Current active Memberships\\n' + FileContent)\n",
        "\n",
        "        \n",
        "  with open(ExFile) as file1:\n",
        "      FileContent = file1.read()\n",
        "      print('Current inactive Memberships\\n' + FileContent)\n",
        "\n",
        "#Call generator and cleaning function\n",
        "\n",
        "genFiles(memReg,exReg)\n",
        "Cleanfiles(memReg,exReg)\n"
      ],
      "metadata": {
        "id": "n6tTt0XNhFdq",
        "outputId": "7a22e73f-da6d-4157-d338-d44df584274c",
        "colab": {
          "base_uri": "https://localhost:8080/"
        }
      },
      "execution_count": null,
      "outputs": [
        {
          "output_type": "stream",
          "name": "stdout",
          "text": [
            "Original Memberships\n",
            "Membership No  Date Joined  Active  \n",
            "    63261      2017-4-20    no    \n",
            "    16812      2016-6-20    no    \n",
            "    88403      2017-1-13    no    \n",
            "    31204      2019-5-15    no    \n",
            "    99570      2015-4-16    no    \n",
            "    96003      2018-11-2    no    \n",
            "    97483      2017-8-14    no    \n",
            "    74802      2018-1-13    yes   \n",
            "    25934      2019-3-14    no    \n",
            "    85886      2015-5-21    yes   \n",
            "    82235      2017-1-7     yes   \n",
            "    81890      2019-8-5     no    \n",
            "    42233      2018-12-7    yes   \n",
            "    32491      2019-11-23   yes   \n",
            "    52830      2016-7-10    yes   \n",
            "    63744      2018-5-14    yes   \n",
            "    66255      2019-10-8    no    \n",
            "    17836      2018-4-13    no    \n",
            "    41942      2015-10-23   no    \n",
            "    68882      2020-11-2    yes   \n",
            "\n",
            "Old Ex Memberships\n",
            "Membership No  Date Joined  Active  \n",
            "    32879      2015-9-7     no    \n",
            "    95424      2020-5-4     no    \n",
            "    84715      2020-11-18   no    \n",
            "\n",
            "Current active Memberships\n",
            "Membership No  Date Joined  Active  \n",
            "    74802      2018-1-13    yes   \n",
            "    85886      2015-5-21    yes   \n",
            "    82235      2017-1-7     yes   \n",
            "    42233      2018-12-7    yes   \n",
            "    32491      2019-11-23   yes   \n",
            "    52830      2016-7-10    yes   \n",
            "    63744      2018-5-14    yes   \n",
            "    68882      2020-11-2    yes   \n",
            "\n",
            "Current inactive Memberships\n",
            "Membership No  Date Joined  Active  \n",
            "    32879      2015-9-7     no    \n",
            "    95424      2020-5-4     no    \n",
            "    84715      2020-11-18   no    \n",
            "    63261      2017-4-20    no    \n",
            "    16812      2016-6-20    no    \n",
            "    88403      2017-1-13    no    \n",
            "    31204      2019-5-15    no    \n",
            "    99570      2015-4-16    no    \n",
            "    96003      2018-11-2    no    \n",
            "    97483      2017-8-14    no    \n",
            "    25934      2019-3-14    no    \n",
            "    81890      2019-8-5     no    \n",
            "    66255      2019-10-8    no    \n",
            "    17836      2018-4-13    no    \n",
            "    41942      2015-10-23   no    \n",
            "\n"
          ]
        }
      ]
    },
    {
      "cell_type": "markdown",
      "source": [
        "#Use pandas for data frames\n",
        "\n",
        "import pandas as pd -> will let you all the library functions\n",
        "\n",
        "use \"df\" to set a dataframe\n",
        "\n",
        "\"head\" is used for headers\n",
        "\n",
        "put the column headers in brackets ['column_name'] to reference to a single column\n",
        "\n",
        "use df.ix to reference to rows and columns\n",
        "\n",
        "reference a dataframe inside another datframe to retrieve filtered values: df1 = df[df['Year']>=1980]\n"
      ],
      "metadata": {
        "id": "a8NEeat8n5-c"
      }
    },
    {
      "cell_type": "markdown",
      "source": [
        "#Data frames lab"
      ],
      "metadata": {
        "id": "KCNFZ8MgozhX"
      }
    },
    {
      "cell_type": "code",
      "source": [
        "import pandas as pd\n",
        "from google.colab import drive\n",
        "drive.mount(\"/content/drive/\", force_remount = True)"
      ],
      "metadata": {
        "id": "Zs-qTO9Soy4k",
        "colab": {
          "base_uri": "https://localhost:8080/"
        },
        "outputId": "a57dfdad-ab1a-4a28-a98e-4412dbad1de6"
      },
      "execution_count": null,
      "outputs": [
        {
          "output_type": "stream",
          "name": "stdout",
          "text": [
            "Mounted at /content/drive/\n"
          ]
        }
      ]
    },
    {
      "cell_type": "code",
      "source": [
        "#Guardando en Data Frames la BD y las categorías\n",
        "BD_Casas_California = pd.read_csv(\"/content/sample_data/california_housing_test.csv\")\n",
        "\n",
        "BD_Casas_California.head()\n",
        "\n",
        "Populationdf = BD_Casas_California[['population']]\n",
        "\n",
        "#Populationdf\n",
        "\n",
        "#Guardar múltiple DF\n",
        "\n",
        "California_housing_subdf = BD_Casas_California[['population','total_bedrooms','total_rooms']]\n",
        "California_housing_subdf\n",
        "\n",
        "#Accesar a una entrada:\n",
        "\n",
        "IndexedDf = California_housing_subdf.loc[0:7,'Population':'total_rooms']\n",
        "IndexedDf\n",
        "\n",
        "#index lab\n",
        "\n",
        "new_index=['a','b','c','d','e','f','g','h']\n",
        "\n",
        "df_new=IndexedDf\n",
        "df_new.index = new_index\n",
        "df_new.loc['a', 'population']\n",
        "df_new.loc['a':'d', 'total_bedrooms']"
      ],
      "metadata": {
        "id": "zYdJhvkgs3xn",
        "outputId": "f7118696-1520-4f92-d41d-a18a91744caa",
        "colab": {
          "base_uri": "https://localhost:8080/"
        }
      },
      "execution_count": null,
      "outputs": [
        {
          "output_type": "execute_result",
          "data": {
            "text/plain": [
              "a    661.0\n",
              "b    310.0\n",
              "c    507.0\n",
              "d     15.0\n",
              "Name: total_bedrooms, dtype: float64"
            ]
          },
          "metadata": {},
          "execution_count": 102
        }
      ]
    }
  ]
}