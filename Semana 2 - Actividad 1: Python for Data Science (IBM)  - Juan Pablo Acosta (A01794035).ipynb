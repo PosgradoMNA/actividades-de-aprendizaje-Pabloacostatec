{
  "nbformat": 4,
  "nbformat_minor": 0,
  "metadata": {
    "colab": {
      "provenance": [],
      "authorship_tag": "ABX9TyP7/T7rPZB1+VqCTuYc/elr",
      "include_colab_link": true
    },
    "kernelspec": {
      "name": "python3",
      "display_name": "Python 3"
    },
    "language_info": {
      "name": "python"
    }
  },
  "cells": [
    {
      "cell_type": "markdown",
      "metadata": {
        "id": "view-in-github",
        "colab_type": "text"
      },
      "source": [
        "<a href=\"https://colab.research.google.com/github/PosgradoMNA/actividades-de-aprendizaje-Pabloacostatec-A01794035-/blob/main/Semana%202%20-%20Actividad%201%3A%20Python%20for%20Data%20Science%20(IBM)%20%20-%20Juan%20Pablo%20Acosta%20(A01794035).ipynb\" target=\"_parent\"><img src=\"https://colab.research.google.com/assets/colab-badge.svg\" alt=\"Open In Colab\"/></a>"
      ]
    },
    {
      "cell_type": "markdown",
      "source": [
        "####Semana 2 - Actividad 1: Python for Data Science (IBM)  - Juan Pablo Acosta (A01794035)"
      ],
      "metadata": {
        "id": "0nwRAUtfByHo"
      }
    },
    {
      "cell_type": "markdown",
      "source": [],
      "metadata": {
        "id": "MVIq0Cd8BxVL"
      }
    }
  ]
}