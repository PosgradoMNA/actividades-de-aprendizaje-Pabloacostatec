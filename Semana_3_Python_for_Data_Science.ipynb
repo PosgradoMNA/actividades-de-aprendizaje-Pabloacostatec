{
  "nbformat": 4,
  "nbformat_minor": 0,
  "metadata": {
    "colab": {
      "provenance": [],
      "toc_visible": true,
      "authorship_tag": "ABX9TyO5BuZ0LBZFrGFJJEZ836FA",
      "include_colab_link": true
    },
    "kernelspec": {
      "name": "python3",
      "display_name": "Python 3"
    },
    "language_info": {
      "name": "python"
    }
  },
  "cells": [
    {
      "cell_type": "markdown",
      "metadata": {
        "id": "view-in-github",
        "colab_type": "text"
      },
      "source": [
        "<a href=\"https://colab.research.google.com/github/PosgradoMNA/actividades-de-aprendizaje-Pabloacostatec-A01794035-/blob/main/Semana_3_Python_for_Data_Science.ipynb\" target=\"_parent\"><img src=\"https://colab.research.google.com/assets/colab-badge.svg\" alt=\"Open In Colab\"/></a>"
      ]
    },
    {
      "cell_type": "markdown",
      "source": [
        "**Semana 3: Python for Data Science**\n",
        "\n",
        "Alumno: Juan Pablo Acosta\n",
        "\n",
        "Matrícula : A01794035\n",
        "\n",
        "Materia Ciencia y analítica de datos\n",
        "\n",
        "Profesor titular: Jobish Vallikavungal Devassia\n",
        "\n",
        "Profesor tutor: Victoria Guerrero Orozco\n",
        "\n",
        "Fecha 02/10/2023"
      ],
      "metadata": {
        "id": "U-0xeq9jfXM6"
      }
    },
    {
      "cell_type": "markdown",
      "source": [
        "#Sección 1: trabajando con arreglos de numpy\n",
        "\n",
        "Los arreglos de numpy son matrices de un sólo tipo de valor que pueden ser transformadas, además los arreglos de numpy ya tienen funciones incluidas como suma, resta multiplicación y división de vectores.\n",
        "\n",
        "la función que se utiliza para declarar un arreglo es: np.array"
      ],
      "metadata": {
        "id": "4z1-hV8EftgK"
      }
    },
    {
      "cell_type": "markdown",
      "source": [
        "#Ejercicios de Lab de arreglos de numpy"
      ],
      "metadata": {
        "id": "1hsHWL2bgJYt"
      }
    },
    {
      "cell_type": "code",
      "source": [
        "import numpy as np"
      ],
      "metadata": {
        "id": "Qx-uy6CQgpRI"
      },
      "execution_count": 91,
      "outputs": []
    },
    {
      "cell_type": "code",
      "execution_count": 92,
      "metadata": {
        "colab": {
          "base_uri": "https://localhost:8080/"
        },
        "id": "QmcIqZrGfQJa",
        "outputId": "9b3a4af6-bcad-4413-e080-1f5dc8c8a684"
      },
      "outputs": [
        {
          "output_type": "execute_result",
          "data": {
            "text/plain": [
              "array([1, 0, 3, 0, 5])"
            ]
          },
          "metadata": {},
          "execution_count": 92
        }
      ],
      "source": [
        "#Implement the following vector subtraction in numpy: u-v\n",
        "\n",
        "u = np.array([1, 0])\n",
        "v = np.array([0, 1])\n",
        "\n",
        "Subs = u-v\n",
        "\n",
        "np.array(Subs)\n",
        "\n",
        "# Multiply the array *2\n",
        "\n",
        "z = np.array([2, 4])\n",
        "Mult = z*2\n",
        "\n",
        "np.array(Mult)\n",
        "\n",
        "#Consider the list [1, 2, 3, 4, 5] and [1, 0, 1, 0, 1]. Cast both lists to a numpy array then multiply them together:\n",
        "\n",
        "l1 = np.array([1,2,3,4,5])\n",
        "l2 = np.array([1,0,1,0,1])\n",
        "\n",
        "MultArray = l1*l2\n",
        "MultArray"
      ]
    },
    {
      "cell_type": "code",
      "source": [
        "from ssl import VerifyMode\n",
        "import time \n",
        "import sys\n",
        "\n",
        "\n",
        "import matplotlib.pyplot as plt\n",
        "%matplotlib inline  \n",
        "\n",
        "def Plotvec2(a,b):\n",
        "    ax = plt.axes()# to generate the full window axes\n",
        "    ax.arrow(0, 0, *a, head_width=0.05, color ='r', head_length=0.1)#Add an arrow to the  a Axes with arrow head width 0.05, color red and arrow head length 0.1\n",
        "    plt.text(*(a + 0.1), 'a')\n",
        "    ax.arrow(0, 0, *b, head_width=0.05, color ='b', head_length=0.1)#Add an arrow to the  b Axes with arrow head width 0.05, color blue and arrow head length 0.1\n",
        "    plt.text(*(b + 0.1), 'b')\n",
        "    plt.ylim(-2, 2)#set the ylim to bottom(-2), top(2)\n",
        "    plt.xlim(-2, 2)#set the xlim to left(-2), right(2)\n",
        "\n",
        "#Convert the list [-1, 1] and [1, 1] to numpy arrays a and b. Then, plot the arrays as vectors using the fuction Plotvec2 and find their dot product:\n",
        "\n",
        "u = np.array([-1, 1])\n",
        "v = np.array([1, 1])\n",
        "\n",
        "#Plotvec2(u,v)\n",
        "\n",
        "#Convert the list [1, 0] and [0, 1] to numpy arrays a and b. Then, plot the arrays as vectors using the function Plotvec2 and find their dot product:\n",
        "\n",
        "u = np.array([1, 0])\n",
        "v = np.array([0, 1])\n",
        "\n",
        "dot = np.dot(u,v)\n",
        "#Plotvec2(u,v)\n",
        "print(dot)\n",
        "\n",
        "#Convert the list [1, 1] and [0, 1] to numpy arrays a and b. Then plot the arrays as vectors using the fuction Plotvec2 and find their dot product:\n",
        "\n",
        "u = np.array([1, 1])\n",
        "v = np.array([0, 1])\n",
        "\n",
        "dot = np.dot(u,v)\n",
        "#Plotvec2(u,v)\n",
        "print(dot)\n",
        "\n",
        "#Why are the results of the dot product for [-1, 1] and [1, 1] and the dot product for [1, 0] and [0, 1] zero, but not zero for the dot product for [1, 1] and [0, 1]? \n",
        "\n",
        "#Vectorial dot products is basically the cast of one vector into the other, the first two vector cannot cast into the others and the third, can.\n",
        "\n",
        "#Convert the list [1, 2, 3] and [8, 9, 10] to numpy arrays arr1 and arr2. Then perform Addition , Subtraction , Multiplication , Division and Dot Operation on the arr1 and arr2.\n",
        "\n",
        "u = np.array([1,2,3])\n",
        "v = np.array([8,9,10])\n",
        "\n",
        "Addi = u+v\n",
        "Subs = u-v\n",
        "Mult = u*v\n",
        "Divi = u/v\n",
        "DotOper = np.dot(u,v)\n",
        "\n",
        "#Convert the list [1, 2, 3, 4, 5] and [6, 7, 8, 9, 10] to numpy arrays arr1 and arr2. Then find the even and odd numbers from arr1 and arr2.\n",
        "\n",
        "u = np.array([1,2,3,4,5])\n",
        "v = np.array([6,7,8,9,10])\n",
        "\n",
        "x = u[1:8:2]\n",
        "x\n",
        "   \n",
        "y = v[0:8:2]\n",
        "y  \n",
        "\n",
        "x = u[1:8:1]\n",
        "x\n",
        "   \n",
        "y = v[1:8:2]\n",
        "y  \n"
      ],
      "metadata": {
        "colab": {
          "base_uri": "https://localhost:8080/"
        },
        "id": "afZH-4p2hUmz",
        "outputId": "6856de1a-17a3-41fb-a854-70510a8179c3"
      },
      "execution_count": 93,
      "outputs": [
        {
          "output_type": "stream",
          "name": "stdout",
          "text": [
            "0\n",
            "1\n"
          ]
        },
        {
          "output_type": "execute_result",
          "data": {
            "text/plain": [
              "array([7, 9])"
            ]
          },
          "metadata": {},
          "execution_count": 93
        }
      ]
    },
    {
      "cell_type": "markdown",
      "source": [
        "##Ejercicios de Lab, arreglos multidimensionales"
      ],
      "metadata": {
        "id": "UMh_1tZwrIlM"
      }
    },
    {
      "cell_type": "code",
      "source": [
        "#Consider the following list a, convert it to Numpy Array.\n",
        "\n",
        "a = [[1, 2, 3, 4], [5, 6, 7, 8], [9, 10, 11, 12]]\n",
        "\n",
        "Array = np.array(a)\n",
        "\n",
        "#Calculate the numpy array size.\n",
        "\n",
        "Array.size\n",
        "\n",
        "#Access the element on the first row and first and second columns.\n",
        "\n",
        "Array[:,0:2]\n",
        "#Perform matrix multiplication with the numpy arrays A and B.\n",
        "\n",
        "b = np.array([[0, 1], [1, 0], [1, 1], [-1, 0]])\n",
        "\n",
        "Mult = np.dot(a,b)\n",
        "Mult"
      ],
      "metadata": {
        "colab": {
          "base_uri": "https://localhost:8080/"
        },
        "id": "nYPB65MKrRlH",
        "outputId": "72e2da8c-7d7e-4abe-aa67-5926f1d6aa91"
      },
      "execution_count": 94,
      "outputs": [
        {
          "output_type": "execute_result",
          "data": {
            "text/plain": [
              "array([[ 1,  4],\n",
              "       [ 5, 12],\n",
              "       [ 9, 20]])"
            ]
          },
          "metadata": {},
          "execution_count": 94
        }
      ]
    },
    {
      "cell_type": "markdown",
      "source": [
        "#Sección API's\n",
        "\n",
        "API's son protocolos de llamado entre dos piezas de software, comunmente utilizadas para utilizar los distintos servicios web, existen varios tipos de APIs\n",
        "\n",
        "REST\n",
        "\n",
        "SOAP\n",
        "\n",
        "JSON\n",
        "\n",
        "...\n",
        "ETC\n",
        "\n"
      ],
      "metadata": {
        "id": "ttjQVfGKvDTW"
      }
    },
    {
      "cell_type": "markdown",
      "source": [
        "##Laboratorio de APIs\n",
        "\n",
        "En esta sección se van a hacer ejercicios para obtener información de un sitio web con el método \"GET\", en este caso el servicio web es un servicio de prueba proveído por IBM.com"
      ],
      "metadata": {
        "id": "GfaL-rJTvY3-"
      }
    },
    {
      "cell_type": "code",
      "source": [
        "import requests\n",
        "import os \n",
        "from PIL import Image\n",
        "from IPython.display import IFrame"
      ],
      "metadata": {
        "id": "DFH3mjJKvrPA"
      },
      "execution_count": 95,
      "outputs": []
    },
    {
      "cell_type": "code",
      "source": [
        "url='https://www.ibm.com/'\n",
        "r=requests.get(url)\n",
        "r\n",
        "header=r.headers\n",
        "#print(r.headers)\n",
        "print(r.request.headers)\n",
        "header['date']\n",
        "header['Content-Type']\n",
        "r.text[0:100]\n",
        "r=requests.get(url)"
      ],
      "metadata": {
        "colab": {
          "base_uri": "https://localhost:8080/"
        },
        "id": "kSBpQHYJwgw_",
        "outputId": "8cfae815-2d21-4c32-d749-4bbe8266180f"
      },
      "execution_count": 96,
      "outputs": [
        {
          "output_type": "stream",
          "name": "stdout",
          "text": [
            "{'User-Agent': 'python-requests/2.23.0', 'Accept-Encoding': 'gzip, deflate', 'Accept': '*/*', 'Connection': 'keep-alive', 'Cookie': '_abck=3503F9986AAE8B25A466619967B32AB7~-1~YAAQtQNAFxujVlmDAQAAAj/TmQgB27+JjDNp/FTiS1mUQt/UXWl7OsHKjYDndAlatIepsbrykr/yf/PM6FLfzH6SqNMyCS+p3pAhZ589Ehxr+tMIP+OtsjrkfUjloNHy4cO/9loHIaTOt99/NJGlKRIjzumFa8ky4dsFlaMdDkOVckt2TpAbtoSahYvfK2hgQukgT5FFHLyQNWwKsNg1NEEH+pg3CMR0ZYSY6Uvm1WOOmyMjQ+SE8htzuKMnRYl/P7AcUKn8h3/OLLeeI6rO08PRBM/PBEPpqLbNcl9bOkkjyHWiZaswAwfNczLdWpvx3MBo3SxpprKLzmuOjm3MnS2E0k96PwVD/HfcuEEGH5FhhXd+t70=~-1~-1~-1; bm_sz=E51AD47E7F56A6A29904630A5182A842~YAAQtQNAFxyjVlmDAQAAAj/TmREinATuzB3oi57keBf3h/VRUB3X8sny4aytVaYnK5U9iXtirbkZo1xMP5KDrfohL1r1bRiNtNEJE7Z16KPH13+deAUU5h5T91pacqj9XmfEVd+qiQt9zYv1KwrtDDksftGHgVA84PMN40Chb82wWNkgVDqkVRQAFsbmOPtJjS/eyecvnzmE6SMLMW4MoH9YU5w96mmP6kq6Wju8dPAAhgivAhRCIUuhBjYmt3eGI9QfrmEmb9/9IhlyAf44wuL97IIMHXooRqK+de0/7J0=~4277558~4403265'}\n"
          ]
        }
      ]
    },
    {
      "cell_type": "code",
      "source": [
        "url='https://cf-courses-data.s3.us.cloud-object-storage.appdomain.cloud/IBMDeveloperSkillsNetwork-PY0101EN-SkillsNetwork/labs/Module%205/data/Example1.txt'\n",
        "path=os.path.join(os.getcwd(),'Example.txt')\n",
        "r=requests.get(url)\n",
        "with open(path,'wb') as f:\n",
        "    f.write(r.content)\n",
        "r,header\n"
      ],
      "metadata": {
        "colab": {
          "base_uri": "https://localhost:8080/"
        },
        "id": "acT3aOGrxLZa",
        "outputId": "814139cd-f903-4807-eed3-e0ad97f76102"
      },
      "execution_count": 97,
      "outputs": [
        {
          "output_type": "execute_result",
          "data": {
            "text/plain": [
              "(<Response [200]>,\n",
              " {'Server': 'Apache', 'Last-Modified': 'Mon, 26 Sep 2022 12:10:36 GMT', 'ETag': '\"182c6-5e9936a544ba1-gzip\"', 'Accept-Ranges': 'bytes', 'Content-Encoding': 'gzip', 'Content-Type': 'text/html', 'Cache-Control': 'max-age=3600', 'Expires': 'Sun, 02 Oct 2022 18:51:41 GMT', 'X-Akamai-Transformed': '9 21429 0 pmb=mTOE,2', 'Date': 'Sun, 02 Oct 2022 17:51:41 GMT', 'Content-Length': '21615', 'Connection': 'keep-alive', 'Vary': 'Accept-Encoding', 'x-content-type-options': 'nosniff', 'X-XSS-Protection': '1; mode=block', 'Content-Security-Policy': 'upgrade-insecure-requests', 'Strict-Transport-Security': 'max-age=31536000'})"
            ]
          },
          "metadata": {},
          "execution_count": 97
        }
      ]
    },
    {
      "cell_type": "code",
      "source": [
        "url_get='http://httpbin.org/get'\n",
        "payload={\"name\":\"Joseph\",\"ID\":\"123\"}\n",
        "r=requests.get(url_get,params=payload)\n",
        "r.url\n",
        "print(\"request body:\", r.request.body)\n",
        "print(r.status_code)\n",
        "print(r.text)\n",
        "r.headers['Content-Type']\n",
        "r.json()\n",
        "r.json()['args']"
      ],
      "metadata": {
        "colab": {
          "base_uri": "https://localhost:8080/"
        },
        "id": "LboQ7EHGzLBc",
        "outputId": "5f900f7b-7145-4ebe-f062-565475ad093a"
      },
      "execution_count": 98,
      "outputs": [
        {
          "output_type": "stream",
          "name": "stdout",
          "text": [
            "request body: None\n",
            "200\n",
            "{\n",
            "  \"args\": {\n",
            "    \"ID\": \"123\", \n",
            "    \"name\": \"Joseph\"\n",
            "  }, \n",
            "  \"headers\": {\n",
            "    \"Accept\": \"*/*\", \n",
            "    \"Accept-Encoding\": \"gzip, deflate\", \n",
            "    \"Host\": \"httpbin.org\", \n",
            "    \"User-Agent\": \"python-requests/2.23.0\", \n",
            "    \"X-Amzn-Trace-Id\": \"Root=1-6339cfae-5c4ca9f45855aac52b62459d\"\n",
            "  }, \n",
            "  \"origin\": \"34.83.9.237\", \n",
            "  \"url\": \"http://httpbin.org/get?name=Joseph&ID=123\"\n",
            "}\n",
            "\n"
          ]
        },
        {
          "output_type": "execute_result",
          "data": {
            "text/plain": [
              "{'ID': '123', 'name': 'Joseph'}"
            ]
          },
          "metadata": {},
          "execution_count": 98
        }
      ]
    },
    {
      "cell_type": "code",
      "source": [
        "url_post='http://httpbin.org/post'\n",
        "r_post=requests.post(url_post,data=payload)\n",
        "print(\"POST request URL:\",r_post.url )\n",
        "print(\"GET request URL:\",r.url)\n",
        "print(\"POST request body:\",r_post.request.body)\n",
        "print(\"GET request body:\",r.request.body)\n",
        "print(\"POST request body:\",r_post.request.body)\n",
        "print(\"GET request body:\",r.request.body)"
      ],
      "metadata": {
        "colab": {
          "base_uri": "https://localhost:8080/"
        },
        "id": "Z-sDyMAPz4Tx",
        "outputId": "d17112ab-e579-447c-a063-b7171c5ed8df"
      },
      "execution_count": 99,
      "outputs": [
        {
          "output_type": "stream",
          "name": "stdout",
          "text": [
            "POST request URL: http://httpbin.org/post\n",
            "GET request URL: http://httpbin.org/get?name=Joseph&ID=123\n",
            "POST request body: name=Joseph&ID=123\n",
            "GET request body: None\n",
            "POST request body: name=Joseph&ID=123\n",
            "GET request body: None\n"
          ]
        }
      ]
    }
  ]
}