{
  "nbformat": 4,
  "nbformat_minor": 0,
  "metadata": {
    "colab": {
      "provenance": [],
      "authorship_tag": "ABX9TyOqJBtyEaqeMIufNLuN1DNg",
      "include_colab_link": true
    },
    "kernelspec": {
      "name": "python3",
      "display_name": "Python 3"
    },
    "language_info": {
      "name": "python"
    }
  },
  "cells": [
    {
      "cell_type": "markdown",
      "metadata": {
        "id": "view-in-github",
        "colab_type": "text"
      },
      "source": [
        "<a href=\"https://colab.research.google.com/github/PosgradoMNA/actividades-de-aprendizaje-Pabloacostatec-A01794035-/blob/main/Actividad%20de%20semana%201%20-%202%3A%20Python%20for%20Data%20Science%20(IBM)%20-%20Pablo%20Acosta.ipynb\" target=\"_parent\"><img src=\"https://colab.research.google.com/assets/colab-badge.svg\" alt=\"Open In Colab\"/></a>"
      ]
    },
    {
      "cell_type": "markdown",
      "source": [],
      "metadata": {
        "id": "aP40bje1sfnI"
      }
    },
    {
      "cell_type": "markdown",
      "source": [
        "#Curso Python Juan Pablo Acosta, matrícula A01794035"
      ],
      "metadata": {
        "id": "iUodOwdIshOt"
      }
    },
    {
      "cell_type": "markdown",
      "source": [
        "####Your first program:"
      ],
      "metadata": {
        "id": "IZ-mD5rusXRU"
      }
    },
    {
      "cell_type": "code",
      "source": [
        "#This line prints 'hellos python'\n",
        "\n",
        "Print('Hello Python 101')"
      ],
      "metadata": {
        "id": "ps3CWs9Jsejn"
      },
      "execution_count": null,
      "outputs": []
    },
    {
      "cell_type": "code",
      "source": [
        "print(\"Hello\\nWorld!\")"
      ],
      "metadata": {
        "colab": {
          "base_uri": "https://localhost:8080/"
        },
        "id": "9bace5Xds9El",
        "outputId": "98108aa5-9025-4f5b-a1c8-bf8c85da8c58"
      },
      "execution_count": 1,
      "outputs": [
        {
          "output_type": "stream",
          "name": "stdout",
          "text": [
            "Hello\n",
            "World!\n"
          ]
        }
      ]
    },
    {
      "cell_type": "markdown",
      "source": [
        "####Variable types notes:\n",
        "\n",
        "Int: Enteros (1)\n",
        "float: Número con decimales (1.1)\n",
        "Bool: Binario (True y False)\n",
        "str: Texto (Hola)\n"
      ],
      "metadata": {
        "id": "7V3dBMFytL76"
      }
    },
    {
      "cell_type": "code",
      "source": [
        "#cast bool to true\n",
        "bool(1)"
      ],
      "metadata": {
        "colab": {
          "base_uri": "https://localhost:8080/"
        },
        "id": "9-Xj_VNBttmP",
        "outputId": "b1ae1eea-ea9e-4e19-b8ab-38683f7819ae"
      },
      "execution_count": 3,
      "outputs": [
        {
          "output_type": "execute_result",
          "data": {
            "text/plain": [
              "True"
            ]
          },
          "metadata": {},
          "execution_count": 3
        }
      ]
    },
    {
      "cell_type": "markdown",
      "source": [
        "#Expressions and variables\n",
        "\n",
        "Operands: numbers\n",
        "\n",
        "Operator: \n",
        "\n",
        " \"+\" sum\n",
        "\n",
        " \"-\" resta \n",
        "\n",
        " \"/\" division \"//\" Division redondeada\n",
        " \n",
        " \"*\" multp"
      ],
      "metadata": {
        "id": "zKO4rH65uGSP"
      }
    },
    {
      "cell_type": "markdown",
      "source": [
        "#Strings functionality\n",
        "\n",
        "String is an order of sequence access by\n",
        "\n",
        "Variable[]\n",
        "len() = string lenght\n",
        "\n",
        "use \"+\" to concatenate\n",
        "\n",
        "Use \"*\" operator to repeat string\n",
        "\n",
        "Use \"\\n\" espace\n",
        "\n",
        "Use \"\\t\" for tab\n",
        "\n",
        "methods change strings i.e \".find\" to find the character position in a string\n",
        "\n"
      ],
      "metadata": {
        "id": "lixiQtm7w3xI"
      }
    },
    {
      "cell_type": "code",
      "source": [
        "name = 'Lizz'\n",
        "print(name[0:2])"
      ],
      "metadata": {
        "colab": {
          "base_uri": "https://localhost:8080/"
        },
        "id": "PfOHs6tFyg-t",
        "outputId": "7d840566-b13e-4d93-a2e4-4a85670a736a"
      },
      "execution_count": 4,
      "outputs": [
        {
          "output_type": "stream",
          "name": "stdout",
          "text": [
            "Li\n"
          ]
        }
      ]
    },
    {
      "cell_type": "code",
      "source": [],
      "metadata": {
        "id": "pEJaqvuaygu4"
      },
      "execution_count": null,
      "outputs": []
    }
  ]
}