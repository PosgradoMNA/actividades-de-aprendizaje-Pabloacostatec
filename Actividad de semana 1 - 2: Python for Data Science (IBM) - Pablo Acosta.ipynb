{
  "nbformat": 4,
  "nbformat_minor": 0,
  "metadata": {
    "colab": {
      "provenance": [],
      "toc_visible": true,
      "authorship_tag": "ABX9TyPIbvZf8c8L5puiHe37oRpL",
      "include_colab_link": true
    },
    "kernelspec": {
      "name": "python3",
      "display_name": "Python 3"
    },
    "language_info": {
      "name": "python"
    }
  },
  "cells": [
    {
      "cell_type": "markdown",
      "metadata": {
        "id": "view-in-github",
        "colab_type": "text"
      },
      "source": [
        "<a href=\"https://colab.research.google.com/github/PosgradoMNA/actividades-de-aprendizaje-Pabloacostatec-A01794035-/blob/main/Actividad%20de%20semana%201%20-%202%3A%20Python%20for%20Data%20Science%20(IBM)%20-%20Pablo%20Acosta.ipynb\" target=\"_parent\"><img src=\"https://colab.research.google.com/assets/colab-badge.svg\" alt=\"Open In Colab\"/></a>"
      ]
    },
    {
      "cell_type": "markdown",
      "source": [],
      "metadata": {
        "id": "aP40bje1sfnI"
      }
    },
    {
      "cell_type": "markdown",
      "source": [
        "#Curso Python Juan Pablo Acosta, matrícula A01794035"
      ],
      "metadata": {
        "id": "iUodOwdIshOt"
      }
    },
    {
      "cell_type": "markdown",
      "source": [
        "#My first program:"
      ],
      "metadata": {
        "id": "IZ-mD5rusXRU"
      }
    },
    {
      "cell_type": "code",
      "source": [
        "#This line prints 'hellos python'\n",
        "\n",
        "Print('Hello Python 101')"
      ],
      "metadata": {
        "id": "ps3CWs9Jsejn"
      },
      "execution_count": null,
      "outputs": []
    },
    {
      "cell_type": "code",
      "source": [
        "print(\"Hello\\nWorld!\")"
      ],
      "metadata": {
        "colab": {
          "base_uri": "https://localhost:8080/"
        },
        "id": "9bace5Xds9El",
        "outputId": "98108aa5-9025-4f5b-a1c8-bf8c85da8c58"
      },
      "execution_count": null,
      "outputs": [
        {
          "output_type": "stream",
          "name": "stdout",
          "text": [
            "Hello\n",
            "World!\n"
          ]
        }
      ]
    },
    {
      "cell_type": "markdown",
      "source": [
        "#Module1:\n",
        "##Variable types notes:\n",
        "\n",
        "Int: Enteros (1)\n",
        "float: Número con decimales (1.1)\n",
        "Bool: Binario (True y False)\n",
        "str: Texto (Hola)\n"
      ],
      "metadata": {
        "id": "7V3dBMFytL76"
      }
    },
    {
      "cell_type": "code",
      "source": [
        "#cast bool to true\n",
        "bool(1)"
      ],
      "metadata": {
        "colab": {
          "base_uri": "https://localhost:8080/"
        },
        "id": "9-Xj_VNBttmP",
        "outputId": "b1ae1eea-ea9e-4e19-b8ab-38683f7819ae"
      },
      "execution_count": null,
      "outputs": [
        {
          "output_type": "execute_result",
          "data": {
            "text/plain": [
              "True"
            ]
          },
          "metadata": {},
          "execution_count": 3
        }
      ]
    },
    {
      "cell_type": "markdown",
      "source": [
        "##Expressions and variables\n",
        "\n",
        "Operands: numbers\n",
        "\n",
        "Operator: \n",
        "\n",
        " \"+\" sum\n",
        "\n",
        " \"-\" resta \n",
        "\n",
        " \"/\" division \"//\" Division redondeada\n",
        " \n",
        " \"*\" multp"
      ],
      "metadata": {
        "id": "zKO4rH65uGSP"
      }
    },
    {
      "cell_type": "markdown",
      "source": [
        "##Strings functionality\n",
        "\n",
        "String is an order of sequence access by\n",
        "\n",
        "Variable[]\n",
        "len() = string lenght\n",
        "\n",
        "use \"+\" to concatenate\n",
        "\n",
        "Use \"*\" operator to repeat string\n",
        "\n",
        "Use \"\\n\" espace\n",
        "\n",
        "Use \"\\t\" for tab\n",
        "\n",
        "methods change strings i.e \".find\" to find the character position in a string\n",
        "\n"
      ],
      "metadata": {
        "id": "lixiQtm7w3xI"
      }
    },
    {
      "cell_type": "code",
      "source": [
        "name = 'Lizz'\n",
        "print(name[0:2])"
      ],
      "metadata": {
        "colab": {
          "base_uri": "https://localhost:8080/"
        },
        "id": "PfOHs6tFyg-t",
        "outputId": "7d840566-b13e-4d93-a2e4-4a85670a736a"
      },
      "execution_count": null,
      "outputs": [
        {
          "output_type": "stream",
          "name": "stdout",
          "text": [
            "Li\n"
          ]
        }
      ]
    },
    {
      "cell_type": "markdown",
      "source": [
        "## Variables lab\n",
        "Section 2: List and tuples\n",
        "\n",
        "Tuples: Ordered sequences that are not modifiable (Tuples are contained in brackets)\n",
        "\n",
        "Lists: Ordered sequences that are modifiable (Lists are contained in square brackets)"
      ],
      "metadata": {
        "id": "0UiBnKEfkQfi"
      }
    },
    {
      "cell_type": "code",
      "source": [
        "# Tuple\n",
        "\n",
        "T = (1,2,3)\n",
        "# T(0) = 4 this line doesn't work\n",
        "\n",
        "#List\n",
        "L = [1,2,3]\n",
        "L[0] = 99\n",
        "L"
      ],
      "metadata": {
        "colab": {
          "base_uri": "https://localhost:8080/"
        },
        "id": "yOBOTX_AkwEF",
        "outputId": "3ee41310-956d-4294-9c2d-69525dd233bd"
      },
      "execution_count": null,
      "outputs": [
        {
          "output_type": "execute_result",
          "data": {
            "text/plain": [
              "[99, 2, 3]"
            ]
          },
          "metadata": {},
          "execution_count": 5
        }
      ]
    },
    {
      "cell_type": "code",
      "source": [
        "#Considering:\n",
        "\n",
        "B=[\"a\",\"b\",\"c\"]\n",
        "\n",
        "#What is the result of the following B[1:]?\n",
        "\n",
        "B[1:]"
      ],
      "metadata": {
        "colab": {
          "base_uri": "https://localhost:8080/"
        },
        "id": "7eS6nIOolv44",
        "outputId": "eac5d1ba-b601-40d0-e201-419c9f49e882"
      },
      "execution_count": null,
      "outputs": [
        {
          "output_type": "execute_result",
          "data": {
            "text/plain": [
              "['b', 'c']"
            ]
          },
          "metadata": {},
          "execution_count": 6
        }
      ]
    },
    {
      "cell_type": "markdown",
      "source": [
        "#Module 2\n",
        "##Tuples Lab\n",
        "\n",
        "Consider the following tuple:\n",
        "\n",
        "sample tuple \n",
        "\n",
        "genres_tuple = (\"pop\", \"rock\", \"soul\", \"hard rock\", \"soft rock\", \\\n",
        "                \"R&B\", \"progressive rock\", \"disco\") "
      ],
      "metadata": {
        "id": "iReaHGvDor_7"
      }
    },
    {
      "cell_type": "code",
      "source": [
        "\n",
        "genres_tuple = (\"pop\", \"rock\", \"soul\", \"hard rock\", \"soft rock\", \\\n",
        "                \"R&B\", \"progressive rock\", \"disco\") \n",
        "genres_tuple\n",
        "\n",
        "#Find the length of the tuple, genres_tuple:\n",
        "\n",
        "len(genres_tuple)\n",
        "\n",
        "#Access the element, with respect to index 3:\n",
        "\n",
        "genres_tuple[3]\n",
        "\n",
        "#Use slicing to obtain indexes 3, 4 and 5:\n",
        "\n",
        "genres_tuple[3:6]\n",
        "\n",
        "#Find the first two elements of the tuple genres_tuple:\n",
        "\n",
        "genres_tuple[0:2]\n",
        "\n",
        "#Find the first index of \"disco\":\n",
        "\n",
        "genres_tuple.index(\"disco\")\n",
        "\n",
        "#Generate a sorted List from the Tuple C_tuple=(-5, 1, -3):\n",
        "\n",
        "tuple = (-5,1,-3)\n",
        "C_tuple = sorted(tuple)\n",
        "C_tuple\n",
        "\n"
      ],
      "metadata": {
        "colab": {
          "base_uri": "https://localhost:8080/"
        },
        "id": "OMoOHNhyo3g5",
        "outputId": "e6d85d06-48df-45a9-cc75-11c15d9f86e4"
      },
      "execution_count": null,
      "outputs": [
        {
          "output_type": "execute_result",
          "data": {
            "text/plain": [
              "[-5, -3, 1]"
            ]
          },
          "metadata": {},
          "execution_count": 8
        }
      ]
    },
    {
      "cell_type": "markdown",
      "source": [
        "##Lists Lab\n",
        "\n",
        "Create a list a_list, with the following elements 1, hello, [1,2,3] and True."
      ],
      "metadata": {
        "id": "qB6o28u0qoGK"
      }
    },
    {
      "cell_type": "code",
      "source": [
        "a_list = [1,'hello',[1,2,3],True]\n",
        "a_list\n",
        "\n",
        "a_list[1]\n",
        "\n",
        "#Find the value stored at index 1 of a_list.\n",
        "a_list[1]\n",
        "\n",
        "#Retrieve the elements stored at index 1, 2 and 3 of a_list.\n",
        "a_list[1:4]\n",
        "\n",
        "#Concatenate the following lists <code>A = \\[1, 'a']</code> and <code>B = \\[2, 1, 'd']</code>:\n",
        "\n",
        "A = [1,'a']\n",
        "B = [2,1,'d']\n",
        "C = A+B\n",
        "C"
      ],
      "metadata": {
        "colab": {
          "base_uri": "https://localhost:8080/"
        },
        "id": "Z8gYvtDDrB_-",
        "outputId": "0de375aa-405d-41dc-fddd-4ca895c5fe90"
      },
      "execution_count": null,
      "outputs": [
        {
          "output_type": "execute_result",
          "data": {
            "text/plain": [
              "[1, 'a', 2, 1, 'd']"
            ]
          },
          "metadata": {},
          "execution_count": 11
        }
      ]
    },
    {
      "cell_type": "markdown",
      "source": [
        "##Sets Lab"
      ],
      "metadata": {
        "id": "3251JjpRtdez"
      }
    },
    {
      "cell_type": "code",
      "source": [
        "#Convert the list ['rap','house','electronic music', 'rap'] to a set:\n",
        "\n",
        "MyList = ['rap','house','electronic music', 'rap']\n",
        "MySet = set(MyList)\n",
        "MySet\n",
        "\n",
        "#Consider the list A = [1, 2, 2, 1] and set B = set([1, 2, 2, 1]), does sum(A) == sum(B)\n",
        "\n",
        "A = [1, 2, 2, 1]\n",
        "B = set([1, 2, 2, 1])\n",
        "\n",
        "Test = sum(A)==sum(B)\n",
        "Test\n",
        "\n",
        "#Create a new set album_set3 that is the union of album_set1 and album_set2:\n",
        "\n",
        "album_set1 = set([\"Thriller\", 'AC/DC', 'Back in Black'])\n",
        "album_set2 = set([ \"AC/DC\", \"Back in Black\", \"The Dark Side of the Moon\"])\n",
        "\n",
        "album_set3 = album_set1.union(album_set2)\n",
        "album_set3\n",
        "\n",
        "#Find out if <code>album_set1</code> is a subset of <code>album_set3</code>:\n",
        "\n",
        "set(album_set1).issubset(album_set3) #Result is true\n"
      ],
      "metadata": {
        "colab": {
          "base_uri": "https://localhost:8080/"
        },
        "id": "KXDgM6L2tkvx",
        "outputId": "0923feb2-0c8e-413c-bab8-0ddfd38d1c06"
      },
      "execution_count": null,
      "outputs": [
        {
          "output_type": "execute_result",
          "data": {
            "text/plain": [
              "True"
            ]
          },
          "metadata": {},
          "execution_count": 19
        }
      ]
    },
    {
      "cell_type": "markdown",
      "source": [
        "##Dictionaries"
      ],
      "metadata": {
        "id": "BFYS3MtUvyZU"
      }
    },
    {
      "cell_type": "code",
      "source": [
        "soundtrack_dic = {\"The Bodyguard\":\"1992\", \"Saturday Night Fever\":\"1977\"}\n",
        "soundtrack_dic \n",
        "\n",
        " #In the dictionary soundtrack_dic what are the keys ?\n",
        "\n",
        "soundtrack_dic.keys()\n",
        "\n",
        "# In the dictionary soundtrack_dic what are the values\n",
        "\n",
        "soundtrack_dic.values()\n",
        "\n",
        "#The Albums Back in Black, The Bodyguard and Thriller have the following music recording sales in millions 50, 50 and 65 respectively:\n",
        "#a) Create a dictionary album_sales_dict where the keys are the album name and the sales in millions are the values.\n",
        "\n",
        "album_sales_dict = {'Back in Black': 50, 'The Bodyguard': 50, 'Thriller': 65}\n",
        "album_sales_dict\n",
        "\n",
        "album_sales_dict['Thriller']\n",
        "album_sales_dict.keys() #get all the keys in the dictionary\n",
        "album_sales_dict.values() #get all the keys in the dictionary\n",
        "\n",
        "\n"
      ],
      "metadata": {
        "colab": {
          "base_uri": "https://localhost:8080/"
        },
        "id": "Y2BF4iYKv09s",
        "outputId": "8c2359fe-3966-4e91-b758-b7d8391a05b4"
      },
      "execution_count": null,
      "outputs": [
        {
          "output_type": "execute_result",
          "data": {
            "text/plain": [
              "dict_keys(['Back in Black', 'The Bodyguard', 'Thriller'])"
            ]
          },
          "metadata": {},
          "execution_count": 27
        }
      ]
    },
    {
      "cell_type": "markdown",
      "source": [
        "#Module 3: Python fundamentals\n",
        "##Conditions and branching"
      ],
      "metadata": {
        "id": "qsz7YLXtx-58"
      }
    },
    {
      "cell_type": "code",
      "source": [
        "#Equality test \"==\"\n",
        "\n",
        "a=6\n",
        "a == 7\n",
        "\n",
        "#Greater or lesser than operators \">\" and \"<\"}\n",
        "a = 8\n",
        "b= 9.5\n",
        "b>8\n",
        "\n",
        "#If and else\n",
        "\n",
        "a = 17\n",
        "\n",
        "if(a>18):\n",
        "  print('You can enter')\n",
        "else:\n",
        "  print('You can not enter')\n",
        "\n",
        "#Else if\n",
        "\n",
        "if(a>18):\n",
        "  print('You can enter')\n",
        "elif(a==18):\n",
        "  print('Go see Pink Floyd')\n",
        "else:\n",
        "  print('Go see Meat Loaf')\n",
        "\n",
        "#or statement\n",
        "\n",
        "year = 1990\n",
        "\n",
        "if (year<1980) or (year>1989):\n",
        "  print('The album was made in the 70´s or 90´s')\n",
        "else:\n",
        "  print('The album was made in the 80´s')"
      ],
      "metadata": {
        "id": "VEXSi8VFUfvx",
        "outputId": "0c18c406-e6aa-43db-9a41-4c7aa3fef695",
        "colab": {
          "base_uri": "https://localhost:8080/"
        }
      },
      "execution_count": null,
      "outputs": [
        {
          "output_type": "stream",
          "name": "stdout",
          "text": [
            "You can not enter\n",
            "Go see Meat Loaf\n",
            "The album was made in the 70´s or 90´s\n"
          ]
        }
      ]
    },
    {
      "cell_type": "markdown",
      "source": [
        "##Conditions Lab"
      ],
      "metadata": {
        "id": "w14OTy1QaNKY"
      }
    },
    {
      "cell_type": "code",
      "source": [
        "#Write an if statement to determine if an album had a rating greater than 8. \n",
        "#Test it using the rating for the album “Back in Black” that had a rating of 8.5. If the statement is true print \"This album is Amazing!\"\n",
        "\n",
        "rating = 8.5\n",
        "\n",
        "if(rating>8):\n",
        "    print('This album is Amazing¡')\n",
        "\n",
        "#Write an if-else statement that performs the following. If the rating is larger then eight print “this album is amazing”.\n",
        "#If the rating is less than or equal to 8 print “this album is ok”.\n",
        "\n",
        "if(rating>8):\n",
        "    print('This album is Amazing¡')\n",
        "elif(rating<=8):\n",
        "    print('This album is ok')\n",
        "\n",
        "#Write an if statement to determine if an album came out before 1980 or in the years: 1991 or 1993. \n",
        "#If the condition is true print out the year the album came out.\n",
        "\n",
        "Year = 1991\n",
        "\n",
        "if(Year < 1980) or(Year == 1991) or(Year== 1993):\n",
        "  print('The album came out in ' + str(Year))"
      ],
      "metadata": {
        "id": "wMoSFOl0aQ7K",
        "outputId": "f93dbd4e-4b0b-495f-c00f-5676407d70ef",
        "colab": {
          "base_uri": "https://localhost:8080/"
        }
      },
      "execution_count": null,
      "outputs": [
        {
          "output_type": "stream",
          "name": "stdout",
          "text": [
            "This album is Amazing¡\n",
            "This album is Amazing¡\n",
            "The album came out in 1991\n"
          ]
        }
      ]
    },
    {
      "cell_type": "markdown",
      "source": [
        "##Loops\n",
        "\n",
        "range function outputs an ordered sequence in a selected range"
      ],
      "metadata": {
        "id": "MP20ueZ3bwZI"
      }
    },
    {
      "cell_type": "code",
      "source": [
        "#for loop\n",
        "\n",
        "squares = ['red','yellow','green','purple','blue']\n",
        "\n",
        "for i in range(0,5):\n",
        "  squares[i] = 'white'\n",
        "\n",
        "squares = ['red','yellow','green','purple','blue']\n",
        "\n",
        "for i,square in enumerate(squares):\n",
        "  square\n",
        "  i\n",
        "\n",
        "#While loop\n",
        "\n",
        "squares = ['orange','orange','green','purple','blue']\n",
        "\n",
        "NewSquares=[]\n",
        "\n",
        "i= 0\n",
        "\n",
        "while (squares[i] == 'orange'):\n",
        "  NewSquares.append(squares[i])\n",
        "  i = i +1\n",
        "\n",
        "NewSquares"
      ],
      "metadata": {
        "id": "RQfdeJw9bwEs",
        "outputId": "b33d23a4-b7a0-4f28-edf5-253d0597d4eb",
        "colab": {
          "base_uri": "https://localhost:8080/"
        }
      },
      "execution_count": null,
      "outputs": [
        {
          "output_type": "execute_result",
          "data": {
            "text/plain": [
              "['orange', 'orange']"
            ]
          },
          "metadata": {},
          "execution_count": 34
        }
      ]
    },
    {
      "cell_type": "markdown",
      "source": [
        "##Loop Lab"
      ],
      "metadata": {
        "id": "ow0lia9OfuIp"
      }
    },
    {
      "cell_type": "code",
      "source": [
        "import pathlib\n",
        "#Write a for loop the prints out all the element between -5 and 5 using the range function.\n",
        "\n",
        "for i in range(-4,5):\n",
        "  print(i)\n",
        "\n",
        "#Print the elements of the following list: Genres=[ 'rock', 'R&B', 'Soundtrack', 'R&B', 'soul', 'pop'] Make sure you follow Python conventions.\n",
        "\n",
        "Genres=[ 'rock', 'R&B', 'Soundtrack', 'R&B', 'soul', 'pop']\n",
        "\n",
        "for allgenres in Genres:\n",
        "  print(allgenres)\n",
        "\n",
        "#Write a for loop that prints out the following list: squares=['red', 'yellow', 'green', 'purple', 'blue']\n",
        "\n",
        "squares=['red', 'yellow', 'green', 'purple', 'blue']\n",
        "\n",
        "for allsquares in squares:\n",
        "   print(allsquares)\n",
        "\n",
        "#Write a while loop to display the values of the Rating of an album playlist stored in the list PlayListRatings. \n",
        "#If the score is less than 6, exit the loop. The list PlayListRatings is given by: PlayListRatings = [10, 9.5, 10, 8, 7.5, 5, 10, 10]\n",
        "\n",
        "PlayListRatings = [10, 9.5, 10, 8, 7.5, 5, 10, 10]\n",
        "\n",
        "i=0\n",
        "\n",
        "while (PlayListRatings[i] > 6):\n",
        "  print(PlayListRatings[i])\n",
        "  i = i+1\n",
        "#Write a while loop to copy the strings 'orange' of the list squares to the list new_squares. \n",
        "#Stop and exit the loop if the value on the list is not 'orange':\n",
        "\n",
        "squares = ['orange', 'orange', 'purple', 'blue ', 'orange']\n",
        "new_squares = []\n",
        "\n",
        "i=0\n",
        "\n",
        "while (squares[i] == 'orange'):\n",
        "  new_squares.append(squares[i])\n",
        "  i=i+1\n",
        "\n",
        "new_squares\n"
      ],
      "metadata": {
        "id": "Kmo78pqpfyIZ",
        "outputId": "e6e3960e-f5a7-478d-a3d9-54c412662c34",
        "colab": {
          "base_uri": "https://localhost:8080/"
        }
      },
      "execution_count": null,
      "outputs": [
        {
          "output_type": "stream",
          "name": "stdout",
          "text": [
            "-4\n",
            "-3\n",
            "-2\n",
            "-1\n",
            "0\n",
            "1\n",
            "2\n",
            "3\n",
            "4\n",
            "rock\n",
            "R&B\n",
            "Soundtrack\n",
            "R&B\n",
            "soul\n",
            "pop\n",
            "red\n",
            "yellow\n",
            "green\n",
            "purple\n",
            "blue\n",
            "10\n",
            "9.5\n",
            "10\n",
            "8\n",
            "7.5\n"
          ]
        },
        {
          "output_type": "execute_result",
          "data": {
            "text/plain": [
              "['orange', 'orange']"
            ]
          },
          "metadata": {},
          "execution_count": 53
        }
      ]
    }
  ]
}