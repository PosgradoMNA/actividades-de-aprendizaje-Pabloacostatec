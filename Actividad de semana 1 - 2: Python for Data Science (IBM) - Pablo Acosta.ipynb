{
  "nbformat": 4,
  "nbformat_minor": 0,
  "metadata": {
    "colab": {
      "provenance": [],
      "toc_visible": true,
      "authorship_tag": "ABX9TyOhTD9o41Dg3WoLKWpm27hH",
      "include_colab_link": true
    },
    "kernelspec": {
      "name": "python3",
      "display_name": "Python 3"
    },
    "language_info": {
      "name": "python"
    }
  },
  "cells": [
    {
      "cell_type": "markdown",
      "metadata": {
        "id": "view-in-github",
        "colab_type": "text"
      },
      "source": [
        "<a href=\"https://colab.research.google.com/github/PosgradoMNA/actividades-de-aprendizaje-Pabloacostatec-A01794035-/blob/main/Actividad%20de%20semana%201%20-%202%3A%20Python%20for%20Data%20Science%20(IBM)%20-%20Pablo%20Acosta.ipynb\" target=\"_parent\"><img src=\"https://colab.research.google.com/assets/colab-badge.svg\" alt=\"Open In Colab\"/></a>"
      ]
    },
    {
      "cell_type": "markdown",
      "source": [],
      "metadata": {
        "id": "aP40bje1sfnI"
      }
    },
    {
      "cell_type": "markdown",
      "source": [
        "#Curso Python Juan Pablo Acosta, matrícula A01794035"
      ],
      "metadata": {
        "id": "iUodOwdIshOt"
      }
    },
    {
      "cell_type": "markdown",
      "source": [
        "#My first program:"
      ],
      "metadata": {
        "id": "IZ-mD5rusXRU"
      }
    },
    {
      "cell_type": "code",
      "source": [
        "#This line prints 'hellos python'\n",
        "\n",
        "Print('Hello Python 101')"
      ],
      "metadata": {
        "id": "ps3CWs9Jsejn"
      },
      "execution_count": null,
      "outputs": []
    },
    {
      "cell_type": "code",
      "source": [
        "print(\"Hello\\nWorld!\")"
      ],
      "metadata": {
        "colab": {
          "base_uri": "https://localhost:8080/"
        },
        "id": "9bace5Xds9El",
        "outputId": "98108aa5-9025-4f5b-a1c8-bf8c85da8c58"
      },
      "execution_count": null,
      "outputs": [
        {
          "output_type": "stream",
          "name": "stdout",
          "text": [
            "Hello\n",
            "World!\n"
          ]
        }
      ]
    },
    {
      "cell_type": "markdown",
      "source": [
        "#Module1:\n",
        "##Variable types notes:\n",
        "\n",
        "Int: Enteros (1)\n",
        "float: Número con decimales (1.1)\n",
        "Bool: Binario (True y False)\n",
        "str: Texto (Hola)\n"
      ],
      "metadata": {
        "id": "7V3dBMFytL76"
      }
    },
    {
      "cell_type": "code",
      "source": [
        "#cast bool to true\n",
        "bool(1)"
      ],
      "metadata": {
        "colab": {
          "base_uri": "https://localhost:8080/"
        },
        "id": "9-Xj_VNBttmP",
        "outputId": "b1ae1eea-ea9e-4e19-b8ab-38683f7819ae"
      },
      "execution_count": null,
      "outputs": [
        {
          "output_type": "execute_result",
          "data": {
            "text/plain": [
              "True"
            ]
          },
          "metadata": {},
          "execution_count": 3
        }
      ]
    },
    {
      "cell_type": "markdown",
      "source": [
        "##Expressions and variables\n",
        "\n",
        "Operands: numbers\n",
        "\n",
        "Operator: \n",
        "\n",
        " \"+\" sum\n",
        "\n",
        " \"-\" resta \n",
        "\n",
        " \"/\" division \"//\" Division redondeada\n",
        " \n",
        " \"*\" multp"
      ],
      "metadata": {
        "id": "zKO4rH65uGSP"
      }
    },
    {
      "cell_type": "markdown",
      "source": [
        "##Strings functionality\n",
        "\n",
        "String is an order of sequence access by\n",
        "\n",
        "Variable[]\n",
        "len() = string lenght\n",
        "\n",
        "use \"+\" to concatenate\n",
        "\n",
        "Use \"*\" operator to repeat string\n",
        "\n",
        "Use \"\\n\" espace\n",
        "\n",
        "Use \"\\t\" for tab\n",
        "\n",
        "methods change strings i.e \".find\" to find the character position in a string\n",
        "\n"
      ],
      "metadata": {
        "id": "lixiQtm7w3xI"
      }
    },
    {
      "cell_type": "code",
      "source": [
        "name = 'Lizz'\n",
        "print(name[0:2])"
      ],
      "metadata": {
        "colab": {
          "base_uri": "https://localhost:8080/"
        },
        "id": "PfOHs6tFyg-t",
        "outputId": "7d840566-b13e-4d93-a2e4-4a85670a736a"
      },
      "execution_count": null,
      "outputs": [
        {
          "output_type": "stream",
          "name": "stdout",
          "text": [
            "Li\n"
          ]
        }
      ]
    },
    {
      "cell_type": "markdown",
      "source": [
        "Section 2: List and tuples\n",
        "\n",
        "Tuples: Ordered sequences that are not modifiable (Tuples are contained in brackets)\n",
        "\n",
        "Lists: Ordered sequences that are modifiable (Lists are contained in square brackets)"
      ],
      "metadata": {
        "id": "0UiBnKEfkQfi"
      }
    },
    {
      "cell_type": "code",
      "source": [
        "# Tuple\n",
        "\n",
        "T = (1,2,3)\n",
        "# T(0) = 4 this line doesn't work\n",
        "\n",
        "#List\n",
        "L = [1,2,3]\n",
        "L[0] = 99\n",
        "L"
      ],
      "metadata": {
        "id": "yOBOTX_AkwEF",
        "outputId": "3ee41310-956d-4294-9c2d-69525dd233bd",
        "colab": {
          "base_uri": "https://localhost:8080/"
        }
      },
      "execution_count": 5,
      "outputs": [
        {
          "output_type": "execute_result",
          "data": {
            "text/plain": [
              "[99, 2, 3]"
            ]
          },
          "metadata": {},
          "execution_count": 5
        }
      ]
    },
    {
      "cell_type": "code",
      "source": [
        "#Considering:\n",
        "\n",
        "B=[\"a\",\"b\",\"c\"]\n",
        "\n",
        "#What is the result of the following B[1:]?\n",
        "\n",
        "B[1:]"
      ],
      "metadata": {
        "id": "7eS6nIOolv44",
        "outputId": "eac5d1ba-b601-40d0-e201-419c9f49e882",
        "colab": {
          "base_uri": "https://localhost:8080/"
        }
      },
      "execution_count": 6,
      "outputs": [
        {
          "output_type": "execute_result",
          "data": {
            "text/plain": [
              "['b', 'c']"
            ]
          },
          "metadata": {},
          "execution_count": 6
        }
      ]
    },
    {
      "cell_type": "markdown",
      "source": [
        "#Module 2\n",
        "##Tuples Lab\n",
        "\n",
        "Consider the following tuple:\n",
        "\n",
        "sample tuple \n",
        "\n",
        "genres_tuple = (\"pop\", \"rock\", \"soul\", \"hard rock\", \"soft rock\", \\\n",
        "                \"R&B\", \"progressive rock\", \"disco\") "
      ],
      "metadata": {
        "id": "iReaHGvDor_7"
      }
    },
    {
      "cell_type": "code",
      "source": [
        "\n",
        "genres_tuple = (\"pop\", \"rock\", \"soul\", \"hard rock\", \"soft rock\", \\\n",
        "                \"R&B\", \"progressive rock\", \"disco\") \n",
        "genres_tuple\n",
        "\n",
        "#Find the length of the tuple, genres_tuple:\n",
        "\n",
        "len(genres_tuple)\n",
        "\n",
        "#Access the element, with respect to index 3:\n",
        "\n",
        "genres_tuple[3]\n",
        "\n",
        "#Use slicing to obtain indexes 3, 4 and 5:\n",
        "\n",
        "genres_tuple[3:6]\n",
        "\n",
        "#Find the first two elements of the tuple genres_tuple:\n",
        "\n",
        "genres_tuple[0:2]\n",
        "\n",
        "#Find the first index of \"disco\":\n",
        "\n",
        "genres_tuple.index(\"disco\")\n",
        "\n",
        "#Generate a sorted List from the Tuple C_tuple=(-5, 1, -3):\n",
        "\n",
        "tuple = (-5,1,-3)\n",
        "C_tuple = sorted(tuple)\n",
        "C_tuple\n",
        "\n"
      ],
      "metadata": {
        "id": "OMoOHNhyo3g5",
        "outputId": "e6d85d06-48df-45a9-cc75-11c15d9f86e4",
        "colab": {
          "base_uri": "https://localhost:8080/"
        }
      },
      "execution_count": 8,
      "outputs": [
        {
          "output_type": "execute_result",
          "data": {
            "text/plain": [
              "[-5, -3, 1]"
            ]
          },
          "metadata": {},
          "execution_count": 8
        }
      ]
    },
    {
      "cell_type": "markdown",
      "source": [
        "##Lists Lab\n",
        "\n",
        "Create a list a_list, with the following elements 1, hello, [1,2,3] and True."
      ],
      "metadata": {
        "id": "qB6o28u0qoGK"
      }
    },
    {
      "cell_type": "code",
      "source": [
        "a_list = [1,'hello',[1,2,3],True]\n",
        "a_list\n",
        "\n",
        "a_list[1]\n",
        "\n",
        "#Find the value stored at index 1 of a_list.\n",
        "a_list[1]\n",
        "\n",
        "#Retrieve the elements stored at index 1, 2 and 3 of a_list.\n",
        "a_list[1:4]\n",
        "\n",
        "#Concatenate the following lists <code>A = \\[1, 'a']</code> and <code>B = \\[2, 1, 'd']</code>:\n",
        "\n",
        "A = [1,'a']\n",
        "B = [2,1,'d']\n",
        "C = A+B\n",
        "C"
      ],
      "metadata": {
        "id": "Z8gYvtDDrB_-",
        "outputId": "0de375aa-405d-41dc-fddd-4ca895c5fe90",
        "colab": {
          "base_uri": "https://localhost:8080/"
        }
      },
      "execution_count": 11,
      "outputs": [
        {
          "output_type": "execute_result",
          "data": {
            "text/plain": [
              "[1, 'a', 2, 1, 'd']"
            ]
          },
          "metadata": {},
          "execution_count": 11
        }
      ]
    },
    {
      "cell_type": "markdown",
      "source": [
        "##Sets Lab"
      ],
      "metadata": {
        "id": "3251JjpRtdez"
      }
    },
    {
      "cell_type": "code",
      "source": [
        "#Convert the list ['rap','house','electronic music', 'rap'] to a set:\n",
        "\n",
        "MyList = ['rap','house','electronic music', 'rap']\n",
        "MySet = set(MyList)\n",
        "MySet\n",
        "\n",
        "#Consider the list A = [1, 2, 2, 1] and set B = set([1, 2, 2, 1]), does sum(A) == sum(B)\n",
        "\n",
        "A = [1, 2, 2, 1]\n",
        "B = set([1, 2, 2, 1])\n",
        "\n",
        "Test = sum(A)==sum(B)\n",
        "Test\n",
        "\n",
        "#Create a new set album_set3 that is the union of album_set1 and album_set2:\n",
        "\n",
        "album_set1 = set([\"Thriller\", 'AC/DC', 'Back in Black'])\n",
        "album_set2 = set([ \"AC/DC\", \"Back in Black\", \"The Dark Side of the Moon\"])\n",
        "\n",
        "album_set3 = album_set1.union(album_set2)\n",
        "album_set3\n",
        "\n",
        "#Find out if <code>album_set1</code> is a subset of <code>album_set3</code>:\n",
        "\n",
        "set(album_set1).issubset(album_set3) #Result is true\n"
      ],
      "metadata": {
        "id": "KXDgM6L2tkvx",
        "outputId": "0923feb2-0c8e-413c-bab8-0ddfd38d1c06",
        "colab": {
          "base_uri": "https://localhost:8080/"
        }
      },
      "execution_count": 19,
      "outputs": [
        {
          "output_type": "execute_result",
          "data": {
            "text/plain": [
              "True"
            ]
          },
          "metadata": {},
          "execution_count": 19
        }
      ]
    },
    {
      "cell_type": "markdown",
      "source": [
        "##Dictionaries"
      ],
      "metadata": {
        "id": "BFYS3MtUvyZU"
      }
    },
    {
      "cell_type": "code",
      "source": [
        "soundtrack_dic = {\"The Bodyguard\":\"1992\", \"Saturday Night Fever\":\"1977\"}\n",
        "soundtrack_dic \n",
        "\n",
        " #In the dictionary soundtrack_dic what are the keys ?\n",
        "\n",
        "soundtrack_dic.keys()\n",
        "\n",
        "# In the dictionary soundtrack_dic what are the values\n",
        "\n",
        "soundtrack_dic.values()\n",
        "\n",
        "#The Albums Back in Black, The Bodyguard and Thriller have the following music recording sales in millions 50, 50 and 65 respectively:\n",
        "#a) Create a dictionary album_sales_dict where the keys are the album name and the sales in millions are the values.\n",
        "\n",
        "album_sales_dict = {'Back in Black': 50, 'The Bodyguard': 50, 'Thriller': 65}\n",
        "album_sales_dict\n",
        "\n",
        "album_sales_dict['Thriller']\n",
        "album_sales_dict.keys() #get all the keys in the dictionary\n",
        "album_sales_dict.values() #get all the keys in the dictionary\n",
        "\n",
        "\n"
      ],
      "metadata": {
        "id": "Y2BF4iYKv09s",
        "outputId": "8c2359fe-3966-4e91-b758-b7d8391a05b4",
        "colab": {
          "base_uri": "https://localhost:8080/"
        }
      },
      "execution_count": 27,
      "outputs": [
        {
          "output_type": "execute_result",
          "data": {
            "text/plain": [
              "dict_keys(['Back in Black', 'The Bodyguard', 'Thriller'])"
            ]
          },
          "metadata": {},
          "execution_count": 27
        }
      ]
    },
    {
      "cell_type": "markdown",
      "source": [
        "#Module 3: Python fundamentals\n",
        "##Conditions and branching"
      ],
      "metadata": {
        "id": "qsz7YLXtx-58"
      }
    }
  ]
}